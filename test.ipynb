{
 "cells": [
  {
   "cell_type": "code",
   "execution_count": 8,
   "metadata": {},
   "outputs": [],
   "source": [
    "import pandas as pd\n",
    "import numpy as np"
   ]
  },
  {
   "cell_type": "code",
   "execution_count": 9,
   "metadata": {},
   "outputs": [],
   "source": [
    "ICs = pd.read_csv(\"DRO_ICs.csv\", index_col=0, usecols=[*range(7), 8])"
   ]
  },
  {
   "cell_type": "code",
   "execution_count": 10,
   "metadata": {},
   "outputs": [
    {
     "data": {
      "text/plain": [
       "array([[ 2.46421896e-02, -1.92361887e-26, -5.03307655e-32,\n",
       "         1.06799564e-12,  7.22376955e+00, -6.00508568e-30],\n",
       "       [ 2.47405347e-02, -1.37347458e-26, -1.27443900e-31,\n",
       "         1.78042359e-12,  7.21380706e+00, -4.22491252e-30],\n",
       "       [ 2.48392661e-02, -9.84338948e-27, -2.91815062e-32,\n",
       "        -3.63474527e-13,  7.20384478e+00,  7.10162593e-31],\n",
       "       ...,\n",
       "       [ 9.80487088e-01,  1.95920502e-24, -2.80886316e-23,\n",
       "         6.41257805e-11,  1.29209669e+00,  5.85455986e-20],\n",
       "       [ 9.80538651e-01,  3.69512578e-25,  1.53856984e-22,\n",
       "         7.31182710e-11,  1.29656649e+00, -3.08690206e-19],\n",
       "       [ 9.80574420e-01,  1.63373218e-24, -9.26770899e-23,\n",
       "         7.44766619e-11,  1.29969538e+00, -2.05396866e-19]])"
      ]
     },
     "execution_count": 10,
     "metadata": {},
     "output_type": "execute_result"
    }
   ],
   "source": [
    "np.array(ICs[[\"x0\",\"y0\",\"z0\",\"vx0\",\"vy0\",\"vz0\"]])"
   ]
  },
  {
   "cell_type": "code",
   "execution_count": 11,
   "metadata": {},
   "outputs": [
    {
     "data": {
      "text/html": [
       "<div>\n",
       "<style scoped>\n",
       "    .dataframe tbody tr th:only-of-type {\n",
       "        vertical-align: middle;\n",
       "    }\n",
       "\n",
       "    .dataframe tbody tr th {\n",
       "        vertical-align: top;\n",
       "    }\n",
       "\n",
       "    .dataframe thead th {\n",
       "        text-align: right;\n",
       "    }\n",
       "</style>\n",
       "<table border=\"1\" class=\"dataframe\">\n",
       "  <thead>\n",
       "    <tr style=\"text-align: right;\">\n",
       "      <th></th>\n",
       "      <th>x0</th>\n",
       "      <th>y0</th>\n",
       "      <th>z0</th>\n",
       "      <th>vx0</th>\n",
       "      <th>vy0</th>\n",
       "      <th>vz0</th>\n",
       "      <th>Period</th>\n",
       "    </tr>\n",
       "    <tr>\n",
       "      <th>Id</th>\n",
       "      <th></th>\n",
       "      <th></th>\n",
       "      <th></th>\n",
       "      <th></th>\n",
       "      <th></th>\n",
       "      <th></th>\n",
       "      <th></th>\n",
       "    </tr>\n",
       "  </thead>\n",
       "  <tbody>\n",
       "    <tr>\n",
       "      <th>4</th>\n",
       "      <td>0.024938</td>\n",
       "      <td>7.527923e-28</td>\n",
       "      <td>1.004633e-93</td>\n",
       "      <td>-1.214313e-12</td>\n",
       "      <td>7.193883</td>\n",
       "      <td>2.007593e-90</td>\n",
       "      <td>6.305179</td>\n",
       "    </tr>\n",
       "    <tr>\n",
       "      <th>5</th>\n",
       "      <td>0.025038</td>\n",
       "      <td>-4.225930e-26</td>\n",
       "      <td>4.023001e-31</td>\n",
       "      <td>1.818496e-12</td>\n",
       "      <td>7.183921</td>\n",
       "      <td>1.046312e-28</td>\n",
       "      <td>6.305167</td>\n",
       "    </tr>\n",
       "    <tr>\n",
       "      <th>6</th>\n",
       "      <td>0.025138</td>\n",
       "      <td>2.582500e-28</td>\n",
       "      <td>-7.368728e-42</td>\n",
       "      <td>3.101535e-12</td>\n",
       "      <td>7.173959</td>\n",
       "      <td>-4.817565e-38</td>\n",
       "      <td>6.305155</td>\n",
       "    </tr>\n",
       "  </tbody>\n",
       "</table>\n",
       "</div>"
      ],
      "text/plain": [
       "          x0            y0            z0           vx0       vy0  \\\n",
       "Id                                                                 \n",
       "4   0.024938  7.527923e-28  1.004633e-93 -1.214313e-12  7.193883   \n",
       "5   0.025038 -4.225930e-26  4.023001e-31  1.818496e-12  7.183921   \n",
       "6   0.025138  2.582500e-28 -7.368728e-42  3.101535e-12  7.173959   \n",
       "\n",
       "             vz0    Period  \n",
       "Id                          \n",
       "4   2.007593e-90  6.305179  \n",
       "5   1.046312e-28  6.305167  \n",
       "6  -4.817565e-38  6.305155  "
      ]
     },
     "execution_count": 11,
     "metadata": {},
     "output_type": "execute_result"
    }
   ],
   "source": [
    "ICs.loc[[4,5,6]]"
   ]
  }
 ],
 "metadata": {
  "kernelspec": {
   "display_name": ".venv",
   "language": "python",
   "name": "python3"
  },
  "language_info": {
   "codemirror_mode": {
    "name": "ipython",
    "version": 3
   },
   "file_extension": ".py",
   "mimetype": "text/x-python",
   "name": "python",
   "nbconvert_exporter": "python",
   "pygments_lexer": "ipython3",
   "version": "3.12.4"
  }
 },
 "nbformat": 4,
 "nbformat_minor": 2
}
