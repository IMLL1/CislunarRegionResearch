{
 "cells": [
  {
   "cell_type": "code",
   "execution_count": 1,
   "metadata": {},
   "outputs": [],
   "source": [
    "import numpy as np\n",
    "import scipy as sp\n",
    "from functions.propagators import TwoBody\n",
    "from functions.read_ICs import read_ICs\n",
    "from functions.density_funcs import (\n",
    "    alt_density_1d,\n",
    "    eval_GMM_PDF,\n",
    "    integrate_cdf,\n",
    ")\n",
    "\n",
    "prop = TwoBody(mu=3.986e5)\n",
    "# set ICs\n",
    "r0 = np.array([100, 200, 500, 1000, 10000, 25000]) + 6371\n",
    "r1 = 6371 + 35786\n",
    "sma = (r0 + r1) / 2\n",
    "v0 = np.sqrt(2 * prop.mu / r0 - prop.mu / sma)\n",
    "tf = 2 * np.pi * np.sqrt(sma**3 / prop.mu)\n",
    "zro = 0 * r0\n",
    "ics = np.array(\n",
    "    [\n",
    "        r0,\n",
    "        zro,\n",
    "        zro,\n",
    "        zro,\n",
    "        v0,\n",
    "        zro,\n",
    "    ]\n",
    ").T\n",
    "ids = [100, 200, 500, 1000, 10000, 25000]\n",
    "GTO_ICs = ics\n",
    "states = []\n",
    "times = []\n",
    "\n",
    "for idx in range(len(ids)):\n",
    "    prop.propagate(GTO_ICs[idx, :], tf[idx])\n",
    "    states.append(prop.states)\n",
    "    times.append(prop.ts)"
   ]
  },
  {
   "cell_type": "code",
   "execution_count": 2,
   "metadata": {},
   "outputs": [],
   "source": [
    "ps, alts, cdf, xcdf = alt_density_1d(states[2], times[2], tf[2], 0)"
   ]
  },
  {
   "cell_type": "markdown",
   "metadata": {},
   "source": [
    "# Case 1: MEO Linear"
   ]
  },
  {
   "cell_type": "code",
   "execution_count": 3,
   "metadata": {},
   "outputs": [
    {
     "data": {
      "text/plain": [
       "np.float64(0.2592892999999999)"
      ]
     },
     "execution_count": 3,
     "metadata": {},
     "output_type": "execute_result"
    }
   ],
   "source": [
    "  \n",
    "alt_block = (20000 + 6371, 30000 + 6371)\n",
    "\n",
    "indices = (alts >= alt_block[0]) * (alts < alt_block[1])\n",
    "np.trapezoid(ps[indices], alts[indices])\n",
    "    "
   ]
  },
  {
   "cell_type": "markdown",
   "metadata": {},
   "source": [
    "# Case 2: MEO weighted by proximity to 12hr orbit\n",
    "### Standard deviation of 3000 km (so Galileo is roughly 1sigma)"
   ]
  },
  {
   "cell_type": "code",
   "execution_count": 4,
   "metadata": {},
   "outputs": [
    {
     "data": {
      "text/plain": [
       "np.float64(2.0062209656217194e-05)"
      ]
     },
     "execution_count": 4,
     "metadata": {},
     "output_type": "execute_result"
    }
   ],
   "source": [
    "GPSalt = 26560\n",
    "cluster_pdf = sp.stats.norm(loc=26560, scale=3000)\n",
    "normal_pts = cluster_pdf.pdf(alts)\n",
    "totProb = normal_pts * ps\n",
    "np.trapezoid(totProb, alts)"
   ]
  },
  {
   "cell_type": "markdown",
   "metadata": {},
   "source": [
    "# Ingest TLE data"
   ]
  },
  {
   "cell_type": "code",
   "execution_count": 5,
   "metadata": {},
   "outputs": [],
   "source": [
    "from functions.tle_histogram import SMA_GMM"
   ]
  },
  {
   "cell_type": "markdown",
   "metadata": {},
   "source": [
    "### GMM with 1 cluster"
   ]
  },
  {
   "cell_type": "code",
   "execution_count": 6,
   "metadata": {},
   "outputs": [
    {
     "data": {
      "text/plain": [
       "np.float64(1.0735063305333758e-05)"
      ]
     },
     "execution_count": 6,
     "metadata": {},
     "output_type": "execute_result"
    }
   ],
   "source": [
    "gmm = SMA_GMM(\"data/tles.txt\", 1)\n",
    "gmm_pdf = eval_GMM_PDF(gmm, alts)\n",
    "gmm_prod = gmm_pdf * ps\n",
    "np.trapezoid(gmm_prod, alts)"
   ]
  },
  {
   "cell_type": "markdown",
   "metadata": {},
   "source": [
    "### GMM with 2 clusters"
   ]
  },
  {
   "cell_type": "code",
   "execution_count": 7,
   "metadata": {},
   "outputs": [
    {
     "data": {
      "text/plain": [
       "np.float64(2.655721061681149e-05)"
      ]
     },
     "execution_count": 7,
     "metadata": {},
     "output_type": "execute_result"
    }
   ],
   "source": [
    "gmm = SMA_GMM(\"data/tles.txt\", 2)\n",
    "gmm_pdf = eval_GMM_PDF(gmm, alts)\n",
    "gmm_prod = gmm_pdf * ps\n",
    "np.trapezoid(gmm_prod, alts)"
   ]
  },
  {
   "cell_type": "code",
   "execution_count": 8,
   "metadata": {},
   "outputs": [
    {
     "data": {
      "text/plain": [
       "np.float64(2.7200486889329148e-05)"
      ]
     },
     "execution_count": 8,
     "metadata": {},
     "output_type": "execute_result"
    }
   ],
   "source": [
    "cdf_dro = cdf\n",
    "integrate_cdf(cdf_dro, gmm_pdf)"
   ]
  },
  {
   "cell_type": "markdown",
   "metadata": {},
   "source": [
    "### GMM with 3 clusters"
   ]
  },
  {
   "cell_type": "code",
   "execution_count": 9,
   "metadata": {},
   "outputs": [
    {
     "data": {
      "text/plain": [
       "np.float64(2.63007195952964e-05)"
      ]
     },
     "execution_count": 9,
     "metadata": {},
     "output_type": "execute_result"
    }
   ],
   "source": [
    "gmm = SMA_GMM(\"data/tles.txt\", 3)\n",
    "gmm_pdf = eval_GMM_PDF(gmm, alts)\n",
    "gmm_prod = gmm_pdf * ps\n",
    "np.trapezoid(gmm_prod, alts)"
   ]
  },
  {
   "cell_type": "code",
   "execution_count": 10,
   "metadata": {},
   "outputs": [
    {
     "data": {
      "text/plain": [
       "np.float64(2.6940484363622767e-05)"
      ]
     },
     "execution_count": 10,
     "metadata": {},
     "output_type": "execute_result"
    }
   ],
   "source": [
    "integrate_cdf(cdf_dro, gmm_pdf)"
   ]
  },
  {
   "cell_type": "markdown",
   "metadata": {},
   "source": [
    "### GMM with 4 clusters"
   ]
  },
  {
   "cell_type": "code",
   "execution_count": 11,
   "metadata": {},
   "outputs": [
    {
     "data": {
      "text/plain": [
       "np.float64(3.1198905311905745e-05)"
      ]
     },
     "execution_count": 11,
     "metadata": {},
     "output_type": "execute_result"
    }
   ],
   "source": [
    "gmm = SMA_GMM(\"data/tles.txt\", 4)\n",
    "gmm_pdf = eval_GMM_PDF(gmm, alts)\n",
    "gmm_prod = gmm_pdf * ps\n",
    "np.trapezoid(gmm_prod, alts)"
   ]
  },
  {
   "cell_type": "code",
   "execution_count": 12,
   "metadata": {},
   "outputs": [
    {
     "data": {
      "text/plain": [
       "np.float64(3.21136474957422e-05)"
      ]
     },
     "execution_count": 12,
     "metadata": {},
     "output_type": "execute_result"
    }
   ],
   "source": [
    "integrate_cdf(cdf_dro, gmm_pdf)"
   ]
  },
  {
   "cell_type": "markdown",
   "metadata": {},
   "source": [
    "### GMM with 5 clusters"
   ]
  },
  {
   "cell_type": "code",
   "execution_count": 13,
   "metadata": {},
   "outputs": [
    {
     "data": {
      "text/plain": [
       "np.float64(3.119058276284492e-05)"
      ]
     },
     "execution_count": 13,
     "metadata": {},
     "output_type": "execute_result"
    }
   ],
   "source": [
    "gmm = SMA_GMM(\"data/tles.txt\", 5)\n",
    "gmm_pdf = eval_GMM_PDF(gmm, alts)\n",
    "gmm_prod = gmm_pdf * ps\n",
    "np.trapezoid(gmm_prod, alts)"
   ]
  },
  {
   "cell_type": "code",
   "execution_count": 14,
   "metadata": {},
   "outputs": [
    {
     "data": {
      "text/plain": [
       "np.float64(3.210255744370288e-05)"
      ]
     },
     "execution_count": 14,
     "metadata": {},
     "output_type": "execute_result"
    }
   ],
   "source": [
    "integrate_cdf(cdf_dro, gmm_pdf)"
   ]
  }
 ],
 "metadata": {
  "kernelspec": {
   "display_name": ".venv",
   "language": "python",
   "name": "python3"
  },
  "language_info": {
   "codemirror_mode": {
    "name": "ipython",
    "version": 3
   },
   "file_extension": ".py",
   "mimetype": "text/x-python",
   "name": "python",
   "nbconvert_exporter": "python",
   "pygments_lexer": "ipython3",
   "version": "3.12.4"
  }
 },
 "nbformat": 4,
 "nbformat_minor": 2
}
